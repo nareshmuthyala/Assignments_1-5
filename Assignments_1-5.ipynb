{
 "cells": [
  {
   "cell_type": "code",
   "execution_count": 1,
   "metadata": {},
   "outputs": [
    {
     "name": "stdout",
     "output_type": "stream",
     "text": [
      "2\n"
     ]
    },
    {
     "data": {
      "text/plain": [
       "int"
      ]
     },
     "execution_count": 1,
     "metadata": {},
     "output_type": "execute_result"
    }
   ],
   "source": [
    "##Assignment 2.1\n",
    "#1\n",
    "\n",
    "x = 2\n",
    "\n",
    "print(x)\n",
    "type(x)"
   ]
  },
  {
   "cell_type": "code",
   "execution_count": 2,
   "metadata": {},
   "outputs": [
    {
     "name": "stdout",
     "output_type": "stream",
     "text": [
      "2002,2009,2016,2023,2037,2044,2051,2058,2072,2079,2086,2093,2107,2114,2121,2128,2142,2149,2156,2163,2177,2184,2191,2198,2212,2219,2226,2233,2247,2254,2261,2268,2282,2289,2296,2303,2317,2324,2331,2338,2352,2359,2366,2373,2387,2394,2401,2408,2422,2429,2436,2443,2457,2464,2471,2478,2492,2499,2506,2513,2527,2534,2541,2548,2562,2569,2576,2583,2597,2604,2611,2618,2632,2639,2646,2653,2667,2674,2681,2688,2702,2709,2716,2723,2737,2744,2751,2758,2772,2779,2786,2793,2807,2814,2821,2828,2842,2849,2856,2863,2877,2884,2891,2898,2912,2919,2926,2933,2947,2954,2961,2968,2982,2989,2996,3003,3017,3024,3031,3038,3052,3059,3066,3073,3087,3094,3101,3108,3122,3129,3136,3143,3157,3164,3171,3178,3192,3199\n"
     ]
    }
   ],
   "source": [
    "#2\n",
    "\n",
    "list = []\n",
    "for i in range(2000,3201):\n",
    "    if(i%7==0 and i%5!=0):\n",
    "        list.append(i)\n",
    "print(','.join(map(str, list)))"
   ]
  },
  {
   "cell_type": "code",
   "execution_count": 3,
   "metadata": {},
   "outputs": [
    {
     "name": "stdout",
     "output_type": "stream",
     "text": [
      "Enter First Name: Naresh\n",
      "Enter Last Name: Muthyala\n",
      "Muthyala Naresh\n"
     ]
    }
   ],
   "source": [
    "#3\n",
    "\n",
    "first_name = input('Enter First Name: ')\n",
    "last_name = input('Enter Last Name: ')\n",
    "print('{0} {1}'.format(last_name, first_name))"
   ]
  },
  {
   "cell_type": "code",
   "execution_count": 4,
   "metadata": {},
   "outputs": [
    {
     "data": {
      "text/plain": [
       "904.7786842338603"
      ]
     },
     "execution_count": 4,
     "metadata": {},
     "output_type": "execute_result"
    }
   ],
   "source": [
    "#4\n",
    "\n",
    "import math\n",
    "def sphere_volume(diameter):\n",
    "    return (4/3)*math.pi*((diameter/2)**3)\n",
    "sphere_volume(12)"
   ]
  },
  {
   "cell_type": "code",
   "execution_count": 5,
   "metadata": {},
   "outputs": [
    {
     "name": "stdout",
     "output_type": "stream",
     "text": [
      "Enter numbers seperated by comma1,2,3,4,5,6\n",
      "[1, 2, 3, 4, 5, 6]\n"
     ]
    }
   ],
   "source": [
    "##Assignment 2.2\n",
    "#1\n",
    "\n",
    "def create_list():\n",
    "    s = input('Enter numbers seperated by comma')\n",
    "    return [int(i) for i in s.split(',')]\n",
    "print(create_list())"
   ]
  },
  {
   "cell_type": "code",
   "execution_count": 6,
   "metadata": {},
   "outputs": [
    {
     "name": "stdout",
     "output_type": "stream",
     "text": [
      "*\n",
      "**\n",
      "***\n",
      "****\n",
      "*****\n",
      "****\n",
      "***\n",
      "**\n",
      "*\n"
     ]
    }
   ],
   "source": [
    "#2\n",
    "\n",
    "def print_pattern(n):\n",
    "    i = 1;\n",
    "    while(i<=n):\n",
    "        print(i*'*')\n",
    "        i+=1\n",
    "        if(n==i):\n",
    "            while(i>=1):\n",
    "                print(i*'*')\n",
    "                i-=1\n",
    "            else:\n",
    "                break\n",
    "print_pattern(5)"
   ]
  },
  {
   "cell_type": "code",
   "execution_count": 7,
   "metadata": {},
   "outputs": [
    {
     "name": "stdout",
     "output_type": "stream",
     "text": [
      "Enter String: AcadGild\n",
      "dliGdacA\n"
     ]
    }
   ],
   "source": [
    "#3\n",
    "\n",
    "def reverse_string():\n",
    "    s = input('Enter String: ')\n",
    "    return s[::-1]\n",
    "print(reverse_string())"
   ]
  },
  {
   "cell_type": "code",
   "execution_count": 8,
   "metadata": {},
   "outputs": [
    {
     "name": "stdout",
     "output_type": "stream",
     "text": [
      "WE, THE PEOPLE OF INDIA,\n",
      "\thaving solemnly resolved to constitute India into a SOVEREIGN, !\n",
      "\t\tSOCIALIST, SECULAR, DEMOCRATIC\n",
      "\t\t REPUBLIC  and to secure to all its citizens\n"
     ]
    }
   ],
   "source": [
    "#4\n",
    "\n",
    "def format_string():\n",
    "    string = \"WE, THE PEOPLE OF INDIA,\\n\\thaving solemnly resolved to constitute India into a SOVEREIGN, !\\n\\t\\tSOCIALIST, SECULAR, DEMOCRATIC\\n\\t\\t REPUBLIC  and to secure to all its citizens\"\n",
    "    print(string)\n",
    "format_string()"
   ]
  },
  {
   "cell_type": "code",
   "execution_count": 9,
   "metadata": {},
   "outputs": [
    {
     "data": {
      "text/plain": [
       "24"
      ]
     },
     "execution_count": 9,
     "metadata": {},
     "output_type": "execute_result"
    }
   ],
   "source": [
    "##Assignment_2.3\n",
    "#1.1\n",
    "\n",
    "def my_reduce(function, list):\n",
    "    k = list[0]\n",
    "    for i in range(1, len(list)):\n",
    "        k = function(k, list[i])\n",
    "    return k\n",
    "my_reduce(lambda x,y:x*y,[1,2,3,4])"
   ]
  },
  {
   "cell_type": "code",
   "execution_count": 10,
   "metadata": {},
   "outputs": [
    {
     "data": {
      "text/plain": [
       "[2, 4, 6]"
      ]
     },
     "execution_count": 10,
     "metadata": {},
     "output_type": "execute_result"
    }
   ],
   "source": [
    "#1.2\n",
    "\n",
    "def my_filter(function, list):\n",
    "    out_list=[]\n",
    "    for i in range(0, len(list)):\n",
    "        if function(list[i]) is True:\n",
    "            out_list.append(list[i])\n",
    "    return out_list\n",
    "            \n",
    "def function(element):\n",
    "    if(element%2==0):\n",
    "        return True\n",
    "list=[1,2,3,4,5,6,7]\n",
    "        \n",
    "my_filter(function, list)"
   ]
  },
  {
   "cell_type": "code",
   "execution_count": 11,
   "metadata": {},
   "outputs": [
    {
     "name": "stdout",
     "output_type": "stream",
     "text": [
      "['A', 'C', 'A', 'D', 'G', 'I', 'L', 'D']\n",
      "['x', 'xx', 'xxx', 'xxxx', 'y', 'yy', 'yyy', 'yyyy', 'z', 'zz', 'zzz', 'zzzz']\n",
      "['x', 'y', 'z', 'xx', 'yy', 'zz', 'xxx', 'yyy', 'zzz', 'xxxx', 'yyyy', 'zzzz']\n",
      "[[2], [3], [4], [3], [4], [5], [4], [5], [6]]\n",
      "[[2, 3, 4, 5], [3, 4, 5, 6], [4, 5, 6, 7], [5, 6, 7, 8]]\n",
      "[(1, 1), (2, 1), (3, 1), (1, 2), (2, 2), (3, 2), (1, 3), (2, 3), (3, 3)]\n"
     ]
    }
   ],
   "source": [
    "#2\n",
    "\n",
    "string1 = 'ACADGILD'\n",
    "string2 = 'xyz'\n",
    "\n",
    "print([string1[i] for i in range(0,len(string1))])\n",
    "print([string2[j]*(i+1) for j in range(0,len(string2)) for i in range(0,len(string2)+1)])\n",
    "print([string2[i]*(j+1) for j in range(0,len(string2)+1) for i in range(0,len(string2))])\n",
    "print([[i+j] for i in range(1,4) for j in range(1,4)])\n",
    "print([[i+j,i+j+1,i+j+2,i+j+3] for i in range(1,5) for j in range(1,2)])\n",
    "print([(j+1,i) for i in range(1,4) for j in range(0,3)])"
   ]
  },
  {
   "cell_type": "code",
   "execution_count": 12,
   "metadata": {},
   "outputs": [
    {
     "data": {
      "text/plain": [
       "'aaaaaaaaa'"
      ]
     },
     "execution_count": 12,
     "metadata": {},
     "output_type": "execute_result"
    }
   ],
   "source": [
    "#3\n",
    "\n",
    "def longest_word(word_list):\n",
    "    longest_word = word_list[0]\n",
    "    for i in range(1,len(word_list)):\n",
    "         if(len(word_list[i])>len(longest_word)):\n",
    "                longest_word = word_list[i]\n",
    "    return longest_word\n",
    "word_list = ['aaaaaaaaa','hello','this','is','naresh']\n",
    "longest_word(word_list)"
   ]
  },
  {
   "cell_type": "code",
   "execution_count": 13,
   "metadata": {},
   "outputs": [
    {
     "name": "stdout",
     "output_type": "stream",
     "text": [
      "43.30127018922193\n"
     ]
    }
   ],
   "source": [
    "##Assignmet_2.4\n",
    "#1.1\n",
    "\n",
    "class Shape:\n",
    "    def __init__(self, a, b, c):\n",
    "        self.a = a\n",
    "        self.b = b\n",
    "        self.c = c\n",
    "class Triangle(Shape):\n",
    "    def __init__(self, *args):\n",
    "        super(Triangle, self).__init__(*args)\n",
    "    def calculate_area(self):\n",
    "        s = (self.a+self.b+self.c)/2\n",
    "        return (s*(s-self.a)*(s-self.b)*(s-self.c)) ** 0.5\n",
    "t = Triangle(10,10,10)\n",
    "print(t.calculate_area())\n"
   ]
  },
  {
   "cell_type": "code",
   "execution_count": 14,
   "metadata": {},
   "outputs": [
    {
     "data": {
      "text/plain": [
       "['aaa', 'aa']"
      ]
     },
     "execution_count": 14,
     "metadata": {},
     "output_type": "execute_result"
    }
   ],
   "source": [
    "#1.2\n",
    "\n",
    "def filter_long_words(word_list, max_len):\n",
    "    output_list = []\n",
    "    for i in range(0, len(word_list)):\n",
    "        if(len(word_list[i])>max_len):\n",
    "            output_list.append(word_list[i])\n",
    "    return output_list\n",
    "filter_long_words(['a','aaa','aa'],1)"
   ]
  },
  {
   "cell_type": "code",
   "execution_count": 1,
   "metadata": {},
   "outputs": [
    {
     "data": {
      "text/plain": [
       "[2, 3, 4]"
      ]
     },
     "execution_count": 1,
     "metadata": {},
     "output_type": "execute_result"
    }
   ],
   "source": [
    "#2.1\n",
    "\n",
    "def map_words_to_length(l):\n",
    "    return list(map(lambda x : len(x), l))\n",
    "map_words_to_length(['ab','cde','erty'])"
   ]
  },
  {
   "cell_type": "code",
   "execution_count": 2,
   "metadata": {},
   "outputs": [
    {
     "data": {
      "text/plain": [
       "True"
      ]
     },
     "execution_count": 2,
     "metadata": {},
     "output_type": "execute_result"
    }
   ],
   "source": [
    "#2.2\n",
    "\n",
    "def check_vowel(char):\n",
    "    assert len(char)==1, \"Not a single character\"\n",
    "    vowels = 'aeiouAEIOU'\n",
    "    if char in vowels:\n",
    "        return True\n",
    "    else:\n",
    "        return False\n",
    "check_vowel('A')"
   ]
  },
  {
   "cell_type": "code",
   "execution_count": 3,
   "metadata": {},
   "outputs": [
    {
     "name": "stdout",
     "output_type": "stream",
     "text": [
      "Divisor should not be zero!\n",
      "2.0\n"
     ]
    }
   ],
   "source": [
    "##Assignment_2.5\n",
    "#1\n",
    "\n",
    "def divide(a,b):\n",
    "    try:\n",
    "        print(a/b)\n",
    "    except ZeroDivisionError:\n",
    "        print(\"Divisor should not be zero!\")   \n",
    "divide(5,0)\n",
    "divide(4,2)"
   ]
  },
  {
   "cell_type": "code",
   "execution_count": 4,
   "metadata": {},
   "outputs": [
    {
     "name": "stdout",
     "output_type": "stream",
     "text": [
      "Americans  play Baseball\n",
      "Americans  play Cricket\n",
      "Americans  watch Baseball\n",
      "Americans  watch Cricket\n",
      "Indians play Baseball\n",
      "Indians play Cricket\n",
      "Indians watch Baseball\n",
      "Indians watch Cricket\n"
     ]
    }
   ],
   "source": [
    "#2\n",
    "\n",
    "def generate_sentence():\n",
    "    subjects=[\"Americans \",\"Indians\"]\n",
    "    verbs=[\" play \",\" watch \"]\n",
    "    objects=[\"Baseball\",\"Cricket\"]\n",
    "    [print(k+j+i) for k in subjects for j in verbs for i in objects]\n",
    "generate_sentence()"
   ]
  }
 ],
 "metadata": {
  "kernelspec": {
   "display_name": "Python 3",
   "language": "python",
   "name": "python3"
  },
  "language_info": {
   "codemirror_mode": {
    "name": "ipython",
    "version": 3
   },
   "file_extension": ".py",
   "mimetype": "text/x-python",
   "name": "python",
   "nbconvert_exporter": "python",
   "pygments_lexer": "ipython3",
   "version": "3.7.3"
  }
 },
 "nbformat": 4,
 "nbformat_minor": 2
}
